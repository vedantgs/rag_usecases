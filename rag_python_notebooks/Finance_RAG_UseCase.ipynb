{
  "cells": [
    {
      "cell_type": "markdown",
      "metadata": {
        "id": "sqkCtgIQMxe4"
      },
      "source": [
        "# **Financial-Regulation Assistant powered by Retrieval Augmented Generation**\n",
        "Fin-Reg Assistant is a platform that utilizes retrieval-augmented generation to address questions related to India's stock and securities exchange, providing insights into regulatory frameworks, guidelines and compliance.\n",
        "\n"
      ]
    },
    {
      "cell_type": "markdown",
      "metadata": {
        "id": "J-b9kLsjM59z"
      },
      "source": [
        "## Environment\n"
      ]
    },
    {
      "cell_type": "code",
      "execution_count": null,
      "metadata": {
        "id": "KsOojhnUPFP0"
      },
      "outputs": [],
      "source": [
        "# Install the required packages\n",
        "# !pip install langchain langchain_community langchain_pinecone pinecone-client pandas numpy"
      ]
    },
    {
      "cell_type": "code",
      "execution_count": null,
      "metadata": {
        "id": "QLhD_JqiMwC2"
      },
      "outputs": [],
      "source": [
        "import os\n",
        "from dotenv import load_dotenv\n",
        "load_dotenv()\n",
        "\n",
        "import pandas as pd\n",
        "from langchain_community.embeddings import HuggingFaceEmbeddings\n",
        "from langchain_pinecone import PineconeVectorStore\n",
        "from langchain_community.document_loaders import PyPDFLoader\n",
        "from langchain.text_splitter import RecursiveCharacterTextSplitter\n",
        "from datasets import Dataset\n",
        "from langchain import hub\n",
        "from langchain_core.output_parsers import StrOutputParser\n",
        "from langchain_core.runnables import RunnablePassthrough\n",
        "from langchain_community.llms.huggingface_endpoint import HuggingFaceEndpoint\n",
        "from ragas import evaluate\n",
        "from ragas.metrics import (\n",
        "    answer_relevancy,\n",
        "    faithfulness,\n",
        "    context_recall,\n",
        "    answer_similarity,\n",
        "    answer_correctness\n",
        ")"
      ]
    },
    {
      "cell_type": "markdown",
      "metadata": {
        "id": "lzb081m_Pzk7"
      },
      "source": [
        "## Initialising Environment variables"
      ]
    },
    {
      "cell_type": "markdown",
      "metadata": {
        "id": "kKkTZrL7QHKs"
      },
      "source": [
        "Initialize Pinecone and Huggingface API keys"
      ]
    },
    {
      "cell_type": "code",
      "execution_count": null,
      "metadata": {
        "id": "lwtzFGllMwC5"
      },
      "outputs": [],
      "source": [
        "PINECONE_API_KEY = os.environ.get(\"PINECONE_API_KEY\")\n",
        "HUGGINGFACEHUB_API_TOKEN = os.environ.get(\"HUGGINGFACEHUB_API_TOKEN\")\n",
        "index_name = \"better-rag\""
      ]
    },
    {
      "cell_type": "markdown",
      "metadata": {
        "id": "kpB5azvNQb8g"
      },
      "source": [
        "Optionally use langsmith for tracking LLM behaviour and token usage."
      ]
    },
    {
      "cell_type": "code",
      "execution_count": null,
      "metadata": {
        "id": "VBIcvALlQbnX"
      },
      "outputs": [],
      "source": [
        "# LANGCHAIN_TRACING_V2=True\n",
        "# LANGCHAIN_API_KEY = os.environ.get(\"LANGCHAIN_API_KEY\")"
      ]
    },
    {
      "cell_type": "markdown",
      "metadata": {
        "id": "jS6-ECeEQpTf"
      },
      "source": [
        "## Embedding Model\n",
        " To generate embeddings, we will be using Colbertv2.0 to generate dense embeddings which balances efficiency and contextualization, making it highly effective for document retrieval tasks."
      ]
    },
    {
      "cell_type": "code",
      "execution_count": null,
      "metadata": {
        "id": "mdOjsvmTMwC6",
        "outputId": "ef59fac4-a64c-442f-a452-32e1686ef29f"
      },
      "outputs": [
        {
          "name": "stderr",
          "output_type": "stream",
          "text": [
            "No sentence-transformers model found with name colbert-ir/colbertv2.0. Creating a new one with MEAN pooling.\n"
          ]
        }
      ],
      "source": [
        "embeddings = HuggingFaceEmbeddings(model_name =\"colbert-ir/colbertv2.0\")"
      ]
    },
    {
      "cell_type": "markdown",
      "metadata": {
        "id": "C494A5CtRd1M"
      },
      "source": [
        "## Generating the Vector Index\n",
        "\n",
        "The data used in this project are the Master circulars published by the Securities and Exchange Board of India (SEBI). These circulars are issued periodically to provide updated and consolidated information to market participants, including intermediaries, investors, and other stakeholders.\n",
        "\n",
        "The PDF is first loaded using `PyPDF` and split using `RecursiveChracterTexrSplitter`.\n"
      ]
    },
    {
      "cell_type": "code",
      "execution_count": null,
      "metadata": {
        "id": "CczAmBXXRoIf"
      },
      "outputs": [],
      "source": [
        "loader = PyPDFLoader(\"1691151096694(1).pdf\")\n",
        "text = loader.load_and_split()\n",
        "\n",
        "def chunk_maker(text):\n",
        "\n",
        "    text_splitter = RecursiveCharacterTextSplitter(\n",
        "        # separator=\"\\n\",  # Adjust separator if needed\n",
        "        chunk_size=1000,\n",
        "        chunk_overlap=200,\n",
        "        length_function=len\n",
        "    )\n",
        "    chunks = text_splitter.split_documents(text)\n",
        "    return chunks\n",
        "\n",
        "text_chunks=chunk_maker(text)"
      ]
    },
    {
      "cell_type": "markdown",
      "metadata": {
        "id": "6MBSUQKhS_t2"
      },
      "source": [
        "Store the embeddings in a Pinecone vector database."
      ]
    },
    {
      "cell_type": "code",
      "execution_count": null,
      "metadata": {
        "id": "cLdQM--iRoE_"
      },
      "outputs": [],
      "source": [
        "docsearch = PineconeVectorStore.from_documents(text_chunks, embeddings, index_name=index_name)"
      ]
    },
    {
      "cell_type": "markdown",
      "metadata": {
        "id": "ysSJWR9iS-jO"
      },
      "source": [
        "Alternatively, if the Pinecone database has already been initialised, we can simply connect to the existing index."
      ]
    },
    {
      "cell_type": "code",
      "execution_count": null,
      "metadata": {
        "id": "qxL3N-8UMwC7"
      },
      "outputs": [],
      "source": [
        "# docsearch = PineconeVectorStore.from_existing_index(index_name=index_name,embedding=embeddings)"
      ]
    },
    {
      "cell_type": "markdown",
      "metadata": {
        "id": "PWjfSWQKT3ES"
      },
      "source": [
        "Set the vector database as a retriever to return the 3 most similar documents."
      ]
    },
    {
      "cell_type": "code",
      "execution_count": null,
      "metadata": {
        "id": "5CSdz3svMwC8"
      },
      "outputs": [],
      "source": [
        "retriever = docsearch.as_retriever(search_kwargs={\"k\": 3})"
      ]
    },
    {
      "cell_type": "markdown",
      "metadata": {
        "id": "hmOkDtesUJMH"
      },
      "source": [
        "## Prompt\n",
        "[Langsmith Hub](https://smith.langchain.com/hub) is a service which provides pre-made templates that can be used for a variety of tasks such as RAG, Agent systems, QA, etc. For this system we are using a [prompt](https://smith.langchain.com/hub/rlm/rag-prompt) which informs the LLM to answer the query in a concise manner while only using the information present in the context and reminding it to say it does not know the answer if the context does not contain enough information to answer the question."
      ]
    },
    {
      "cell_type": "code",
      "execution_count": null,
      "metadata": {
        "id": "IjvKsiFaMwC8",
        "outputId": "f2dc471d-afb4-4c20-f450-15c67dd41af3"
      },
      "outputs": [
        {
          "data": {
            "text/plain": [
              "[HumanMessage(content=\"You are an assistant for question-answering tasks. Use the following pieces of retrieved context to answer the question. If you don't know the answer, just say that you don't know. Use three sentences maximum and keep the answer concise.\\nQuestion: filler question \\nContext: filler context \\nAnswer:\")]"
            ]
          },
          "execution_count": 21,
          "metadata": {},
          "output_type": "execute_result"
        }
      ],
      "source": [
        "prompt = hub.pull(\"rlm/rag-prompt\")\n",
        "\n",
        "example_messages = prompt.invoke(\n",
        "    {\"context\": \"filler context\", \"question\": \"filler question\"}\n",
        ").to_messages()\n",
        "example_messages"
      ]
    },
    {
      "cell_type": "markdown",
      "metadata": {
        "id": "t0wVsWvZWdxB"
      },
      "source": [
        "## Generation\n",
        "\n",
        "The generation task will be handled by the Mistral-7B-Instruct-v0.1 model. The inference for this model is provided by HugginFaceEndpoint which is free of cost but has some rate-limits.\n"
      ]
    },
    {
      "cell_type": "code",
      "execution_count": null,
      "metadata": {
        "id": "KLk01cdUMwC8",
        "outputId": "c5b8fd47-7138-4645-c7a6-93096d644ae6"
      },
      "outputs": [
        {
          "name": "stdout",
          "output_type": "stream",
          "text": [
            "Token has not been saved to git credential helper. Pass `add_to_git_credential=True` if you want to set the git credential as well.\n",
            "Token is valid (permission: write).\n",
            "Your token has been saved to C:\\Users\\vedan\\.cache\\huggingface\\token\n",
            "Login successful\n"
          ]
        }
      ],
      "source": [
        "repo_id = \"mistralai/Mistral-7B-Instruct-v0.1\"\n",
        "\n",
        "llm = HuggingFaceEndpoint(repo_id=repo_id,huggingfacehub_api_token=HUGGINGFACEHUB_API_TOKEN,temperature=0.1)"
      ]
    },
    {
      "cell_type": "markdown",
      "metadata": {
        "id": "NSLBw_Q3W_N6"
      },
      "source": [
        "## Retrieval Chain\n",
        "\n",
        "We define a function `format_docs` that takes a list of document objects `docs` and concatenates their `page_content` attributes into a single string, separated by two newline characters.\n",
        "We then set up a processing chain `rag_chain`.\n",
        "The chain starts with retrieving documents, formatting their content, and then passing the formatted content through a prompt and a language model.\n",
        "Finally, the output is parsed and formatted as a string before being returned.\n"
      ]
    },
    {
      "cell_type": "code",
      "execution_count": null,
      "metadata": {
        "id": "7w0315irMwC9"
      },
      "outputs": [],
      "source": [
        "def format_docs(docs):\n",
        "    return \"\\n\\n\".join(doc.page_content for doc in docs)\n",
        "\n",
        "\n",
        "rag_chain = (\n",
        "    {\"context\": retriever | format_docs, \"question\": RunnablePassthrough()}\n",
        "    | prompt\n",
        "    | llm\n",
        "    | StrOutputParser()\n",
        ")"
      ]
    },
    {
      "cell_type": "markdown",
      "metadata": {
        "id": "XfMyS9CHZ34q"
      },
      "source": [
        "We define a function `process_text` which streams input through the `rag_chain`, printing each chunk for continuous output.\n"
      ]
    },
    {
      "cell_type": "code",
      "execution_count": null,
      "metadata": {
        "id": "RD5zJ882MwC_"
      },
      "outputs": [],
      "source": [
        "def process_text(input_string):\n",
        "    for chunk in rag_chain.stream(input_string):\n",
        "        print(chunk, end=\"\", flush=True)"
      ]
    },
    {
      "cell_type": "markdown",
      "metadata": {
        "id": "S3VR556QaaFG"
      },
      "source": [
        "## Trial Run"
      ]
    },
    {
      "cell_type": "code",
      "execution_count": null,
      "metadata": {
        "id": "L7ugw2M2MwDC",
        "outputId": "466c0d3b-a68a-45f1-8ff5-c1ed72f9ba2e"
      },
      "outputs": [
        {
          "name": "stdout",
          "output_type": "stream",
          "text": [
            " PMLA stands for Principal Market Maker Listing Authority.</s>"
          ]
        }
      ],
      "source": [
        "process_text(\"What is the full form of PMLA?\")"
      ]
    },
    {
      "cell_type": "markdown",
      "metadata": {
        "id": "2JcKvwQeafTb"
      },
      "source": [
        "# Benchmarking\n",
        "Two custom datasets were developed to test distinct attributes of the proposed RAG systems. Namely SimpleBench and ComplexBench.\n",
        "\n",
        "\n",
        "\n",
        "1.   SimpleBench consists of 10 straightforward domain specific question with the main objective of evaluating the LLM’s generative capabilities using the retrieved information.\n",
        "2.   ComplexBench 6 hard questions that intend to challenge both the retriever's capacity to accurately identify relevant context and the LLM's reasoning ability.\n",
        "\n",
        "The following metrics were used to quantify the performance on the benchmarking datasets:\n",
        "\n",
        "- **Faithfulness:**\n",
        "    - It measures the factual consistency of the generated answer against the given context.\n",
        "    - Its a binary score assigned by the LLM.\n",
        "- Answer Relevance:\n",
        "    - It focuses on assessing how relevant the generated answer is to the given prompt.\n",
        "    - It’s calculated by taking the mean cosine similarity of the original question to a number of artificial questions, which are generated based on the answer.\n",
        "- Context Recall:\n",
        "    - It measures the extent to which the retrieved context aligns with the ground truth.\n",
        "    - To compute it, each sentence in the ground truth answer is analyzed to determine whether it can be attributed to the retrieved context or not.\n",
        "- Answer Semantic Similarity:\n",
        "    - It is the assessment of semantic resemblance between the generated answer and the ground truth.\n",
        "    - Evaluation is done by LLM using the ground truth and the model generated answer.\n",
        "- Answer Correctness:\n",
        "    - Measures the accuracy of the generated answer when compared to the ground truth.\n",
        "    - It utilizes semantic similarity and factual similarity between the generated answer and the ground truth.\n",
        "\n",
        "**NOTE :**\n",
        "\n",
        "More Information about the metrics are available [here](https://docs.ragas.io/en/stable/concepts/metrics/index.html).\n",
        "\n",
        "[RAGAS](https://docs.ragas.io/en/stable/index.html) was used for the calculating the metrics. This implementation of RAGAS requires an OpenAI account which has the ability to run GPT-3.5-turbo-0125. RAGAS provides a [method](https://docs.ragas.io/en/stable/howtos/customisations/bring-your-own-llm-or-embs.html) to implement custom LLM and embedding models but they can lead to unreliable scores."
      ]
    },
    {
      "cell_type": "code",
      "execution_count": null,
      "metadata": {
        "id": "PjBYPEr2MwDD",
        "outputId": "a1c5db11-2c6c-4e9e-b9bf-7de3a69421f1"
      },
      "outputs": [
        {
          "data": {
            "text/html": [
              "<div>\n",
              "<style scoped>\n",
              "    .dataframe tbody tr th:only-of-type {\n",
              "        vertical-align: middle;\n",
              "    }\n",
              "\n",
              "    .dataframe tbody tr th {\n",
              "        vertical-align: top;\n",
              "    }\n",
              "\n",
              "    .dataframe thead th {\n",
              "        text-align: right;\n",
              "    }\n",
              "</style>\n",
              "<table border=\"1\" class=\"dataframe\">\n",
              "  <thead>\n",
              "    <tr style=\"text-align: right;\">\n",
              "      <th></th>\n",
              "      <th>question</th>\n",
              "      <th>ground_truth</th>\n",
              "      <th>answer</th>\n",
              "    </tr>\n",
              "  </thead>\n",
              "  <tbody>\n",
              "    <tr>\n",
              "      <th>0</th>\n",
              "      <td>What determines the Daily Settlement Price (DS...</td>\n",
              "      <td>The Daily Settlement Price (DSP) in futures tr...</td>\n",
              "      <td>The Daily Settlement Price (DSP) in futures t...</td>\n",
              "    </tr>\n",
              "    <tr>\n",
              "      <th>1</th>\n",
              "      <td>What are the objective parameters used to dete...</td>\n",
              "      <td>The objective parameters used to determine the...</td>\n",
              "      <td>The objective parameters used to determine th...</td>\n",
              "    </tr>\n",
              "    <tr>\n",
              "      <th>2</th>\n",
              "      <td>What steps should Clearing Corporations take i...</td>\n",
              "      <td>Clearing Corporations planning to launch susce...</td>\n",
              "      <td>Clearing Corporations should update their syst...</td>\n",
              "    </tr>\n",
              "    <tr>\n",
              "      <th>3</th>\n",
              "      <td>Can you explain the framework for early delive...</td>\n",
              "      <td>The framework for early delivery in futures co...</td>\n",
              "      <td>The framework for early delivery in futures c...</td>\n",
              "    </tr>\n",
              "    <tr>\n",
              "      <th>4</th>\n",
              "      <td>How does the Clearing Corporation ensure compl...</td>\n",
              "      <td>The Clearing Corporation ensures compliance wi...</td>\n",
              "      <td>The Clearing Corporation ensures compliance w...</td>\n",
              "    </tr>\n",
              "  </tbody>\n",
              "</table>\n",
              "</div>"
            ],
            "text/plain": [
              "                                            question  \\\n",
              "0  What determines the Daily Settlement Price (DS...   \n",
              "1  What are the objective parameters used to dete...   \n",
              "2  What steps should Clearing Corporations take i...   \n",
              "3  Can you explain the framework for early delive...   \n",
              "4  How does the Clearing Corporation ensure compl...   \n",
              "\n",
              "                                        ground_truth  \\\n",
              "0  The Daily Settlement Price (DSP) in futures tr...   \n",
              "1  The objective parameters used to determine the...   \n",
              "2  Clearing Corporations planning to launch susce...   \n",
              "3  The framework for early delivery in futures co...   \n",
              "4  The Clearing Corporation ensures compliance wi...   \n",
              "\n",
              "                                              answer  \n",
              "0   The Daily Settlement Price (DSP) in futures t...  \n",
              "1   The objective parameters used to determine th...  \n",
              "2  Clearing Corporations should update their syst...  \n",
              "3   The framework for early delivery in futures c...  \n",
              "4   The Clearing Corporation ensures compliance w...  "
            ]
          },
          "execution_count": 12,
          "metadata": {},
          "output_type": "execute_result"
        }
      ],
      "source": [
        "#Importing SimpleBench\n",
        "\n",
        "simple_df = pd.read_excel(\"SimpleBench.xlsx\")\n",
        "simple_df.head()"
      ]
    },
    {
      "cell_type": "markdown",
      "metadata": {
        "id": "s_fDgyuseO8Z"
      },
      "source": [
        "RAGAS requires the data to be in a specific [format](https://docs.ragas.io/en/stable/howtos/applications/data_preparation.html). The function `iterate_and_update` stores the documents which were identified as relevant by the retriever in a list and stores them in a column called *'contexts'*.\n",
        "\n",
        "The function then invokes the `rag_chain` and stores the model respone in the dataframe column called *'answer'*.\n",
        "\n"
      ]
    },
    {
      "cell_type": "code",
      "execution_count": null,
      "metadata": {
        "id": "oNX7AcP2MwDE"
      },
      "outputs": [],
      "source": [
        "def iterate_and_update(df):\n",
        "    for i in range(len(df)):\n",
        "        relevant_docs = retriever.get_relevant_documents(df['question'].iloc[i])\n",
        "        relevant_list = [] # Initialize an empty list to hold the documents\n",
        "        for doc in relevant_docs:\n",
        "            # For each document, create a list with the document's content and append it to relevant_list\n",
        "            relevant_list.append(doc.page_content.replace('\\n',''))\n",
        "        # Assign the list of documents to the 'Retrieved_Information' column\n",
        "\n",
        "        df.at[i, 'contexts'] = relevant_list\n",
        "\n",
        "        response = rag_chain.invoke(simple_df.question.iloc[i])\n",
        "\n",
        "        df.at[i, 'answer'] = response\n",
        "\n",
        "    return df"
      ]
    },
    {
      "cell_type": "code",
      "execution_count": null,
      "metadata": {
        "id": "Y9LF6SroMwDE"
      },
      "outputs": [],
      "source": [
        "#Apple the iterate_and_update function to simple_df\n",
        "\n",
        "simple_df = iterate_and_update(simple_df)"
      ]
    },
    {
      "cell_type": "code",
      "execution_count": null,
      "metadata": {
        "id": "--8gISmlMwDE",
        "outputId": "9e34fae4-f542-4a7f-da12-6a7d69fb144c"
      },
      "outputs": [
        {
          "data": {
            "text/plain": [
              "Dataset({\n",
              "    features: ['question', 'ground_truth', 'contexts', 'answer'],\n",
              "    num_rows: 10\n",
              "})"
            ]
          },
          "execution_count": 20,
          "metadata": {},
          "output_type": "execute_result"
        }
      ],
      "source": [
        "#Convert the dataframe to a Dataset format as that is required for RAGAS\n",
        "\n",
        "simple_data = Dataset.from_pandas(simple_df)\n",
        "simple_data"
      ]
    },
    {
      "cell_type": "code",
      "execution_count": null,
      "metadata": {
        "id": "rKbFc7KAMwDF",
        "outputId": "12026154-c526-4987-c9fb-af336e5d9424"
      },
      "outputs": [
        {
          "name": "stderr",
          "output_type": "stream",
          "text": [
            "Evaluating: 100%|██████████| 50/50 [00:20<00:00,  2.44it/s]\n"
          ]
        }
      ],
      "source": [
        "#Perform Evaluation\n",
        "\n",
        "simple_result = evaluate(\n",
        "    simple_data,\n",
        "    metrics=[\n",
        "        faithfulness,\n",
        "        answer_relevancy,\n",
        "        context_recall,\n",
        "        answer_similarity,\n",
        "        answer_correctness\n",
        "    ]\n",
        ")\n"
      ]
    },
    {
      "cell_type": "code",
      "execution_count": null,
      "metadata": {
        "id": "8NESJoxoMwDG",
        "outputId": "ce2fcb3e-f4db-428c-d481-e8ad13f9786a"
      },
      "outputs": [
        {
          "data": {
            "text/plain": [
              "{'faithfulness': 0.8854, 'answer_relevancy': 0.9629, 'context_recall': 0.7917, 'answer_similarity': 0.9088, 'answer_correctness': 0.5768}"
            ]
          },
          "execution_count": 22,
          "metadata": {},
          "output_type": "execute_result"
        }
      ],
      "source": [
        "simple_result"
      ]
    },
    {
      "cell_type": "markdown",
      "metadata": {
        "id": "-TEZnQ9shWNT"
      },
      "source": [
        "We perform the same steps for ComplexBench now."
      ]
    },
    {
      "cell_type": "code",
      "execution_count": null,
      "metadata": {
        "id": "PTbeKbzJMwDG",
        "outputId": "f741eff7-44f9-473a-c545-e0efedd40021"
      },
      "outputs": [
        {
          "data": {
            "text/html": [
              "<div>\n",
              "<style scoped>\n",
              "    .dataframe tbody tr th:only-of-type {\n",
              "        vertical-align: middle;\n",
              "    }\n",
              "\n",
              "    .dataframe tbody tr th {\n",
              "        vertical-align: top;\n",
              "    }\n",
              "\n",
              "    .dataframe thead th {\n",
              "        text-align: right;\n",
              "    }\n",
              "</style>\n",
              "<table border=\"1\" class=\"dataframe\">\n",
              "  <thead>\n",
              "    <tr style=\"text-align: right;\">\n",
              "      <th></th>\n",
              "      <th>question</th>\n",
              "      <th>ground_truth</th>\n",
              "      <th>answer</th>\n",
              "    </tr>\n",
              "  </thead>\n",
              "  <tbody>\n",
              "    <tr>\n",
              "      <th>0</th>\n",
              "      <td>Can you explain how governmental interventions...</td>\n",
              "      <td>Governmental interventions and price manipulat...</td>\n",
              "      <td>Governmental interventions and price manipula...</td>\n",
              "    </tr>\n",
              "    <tr>\n",
              "      <th>1</th>\n",
              "      <td>How do stock exchanges handle the exercise of ...</td>\n",
              "      <td>Stock exchanges handle option contracts throug...</td>\n",
              "      <td>Stock exchanges handle the exercise of option ...</td>\n",
              "    </tr>\n",
              "    <tr>\n",
              "      <th>2</th>\n",
              "      <td>Discuss the criteria for determining exposure ...</td>\n",
              "      <td>The exposure limits to banks by stock exchange...</td>\n",
              "      <td>The criteria for determining exposure limits ...</td>\n",
              "    </tr>\n",
              "    <tr>\n",
              "      <th>3</th>\n",
              "      <td>Discuss the significance of the Clearing Corpo...</td>\n",
              "      <td>The discretion of Clearing Corporations to pre...</td>\n",
              "      <td>The Clearing Corporations have the discretion...</td>\n",
              "    </tr>\n",
              "    <tr>\n",
              "      <th>4</th>\n",
              "      <td>In what ways does the composition of statutory...</td>\n",
              "      <td>The composition of statutory committees within...</td>\n",
              "      <td>The composition of statutory committees withi...</td>\n",
              "    </tr>\n",
              "  </tbody>\n",
              "</table>\n",
              "</div>"
            ],
            "text/plain": [
              "                                            question  \\\n",
              "0  Can you explain how governmental interventions...   \n",
              "1  How do stock exchanges handle the exercise of ...   \n",
              "2  Discuss the criteria for determining exposure ...   \n",
              "3  Discuss the significance of the Clearing Corpo...   \n",
              "4  In what ways does the composition of statutory...   \n",
              "\n",
              "                                        ground_truth  \\\n",
              "0  Governmental interventions and price manipulat...   \n",
              "1  Stock exchanges handle option contracts throug...   \n",
              "2  The exposure limits to banks by stock exchange...   \n",
              "3  The discretion of Clearing Corporations to pre...   \n",
              "4  The composition of statutory committees within...   \n",
              "\n",
              "                                              answer  \n",
              "0   Governmental interventions and price manipula...  \n",
              "1  Stock exchanges handle the exercise of option ...  \n",
              "2   The criteria for determining exposure limits ...  \n",
              "3   The Clearing Corporations have the discretion...  \n",
              "4   The composition of statutory committees withi...  "
            ]
          },
          "execution_count": 23,
          "metadata": {},
          "output_type": "execute_result"
        }
      ],
      "source": [
        "complex_df = pd.read_excel(\"ComplexBench.xlsx\")\n",
        "complex_df.head()"
      ]
    },
    {
      "cell_type": "code",
      "execution_count": null,
      "metadata": {
        "id": "uESawxOIMwDH",
        "outputId": "1baca2e4-2bc8-4a0f-8174-211307893d8d"
      },
      "outputs": [
        {
          "data": {
            "text/html": [
              "<div>\n",
              "<style scoped>\n",
              "    .dataframe tbody tr th:only-of-type {\n",
              "        vertical-align: middle;\n",
              "    }\n",
              "\n",
              "    .dataframe tbody tr th {\n",
              "        vertical-align: top;\n",
              "    }\n",
              "\n",
              "    .dataframe thead th {\n",
              "        text-align: right;\n",
              "    }\n",
              "</style>\n",
              "<table border=\"1\" class=\"dataframe\">\n",
              "  <thead>\n",
              "    <tr style=\"text-align: right;\">\n",
              "      <th></th>\n",
              "      <th>question</th>\n",
              "      <th>ground_truth</th>\n",
              "      <th>contexts</th>\n",
              "      <th>answer</th>\n",
              "    </tr>\n",
              "  </thead>\n",
              "  <tbody>\n",
              "    <tr>\n",
              "      <th>0</th>\n",
              "      <td>Can you explain how governmental interventions...</td>\n",
              "      <td>Governmental interventions and price manipulat...</td>\n",
              "      <td>[ease of doing business in commodity markets. ...</td>\n",
              "      <td>The Daily Settlement Price (DSP) in futures t...</td>\n",
              "    </tr>\n",
              "    <tr>\n",
              "      <th>1</th>\n",
              "      <td>How do stock exchanges handle the exercise of ...</td>\n",
              "      <td>Stock exchanges handle option contracts throug...</td>\n",
              "      <td>[Exchange platfor m in a transparent manner   ...</td>\n",
              "      <td>The objective parameters used to determine th...</td>\n",
              "    </tr>\n",
              "    <tr>\n",
              "      <th>2</th>\n",
              "      <td>Discuss the criteria for determining exposure ...</td>\n",
              "      <td>The exposure limits to banks by stock exchange...</td>\n",
              "      <td>[b.  Open position limits in respect of client...</td>\n",
              "      <td>Clearing Corporations should design a system ...</td>\n",
              "    </tr>\n",
              "    <tr>\n",
              "      <th>3</th>\n",
              "      <td>Discuss the significance of the Clearing Corpo...</td>\n",
              "      <td>The discretion of Clearing Corporations to pre...</td>\n",
              "      <td>[Clearing Corporation on their website / by is...</td>\n",
              "      <td>The framework for early delivery in futures c...</td>\n",
              "    </tr>\n",
              "    <tr>\n",
              "      <th>4</th>\n",
              "      <td>In what ways does the composition of statutory...</td>\n",
              "      <td>The composition of statutory committees within...</td>\n",
              "      <td>[5.  Advisory Committee   Advise the governin...</td>\n",
              "      <td>The Clearing Corporation ensures compliance w...</td>\n",
              "    </tr>\n",
              "  </tbody>\n",
              "</table>\n",
              "</div>"
            ],
            "text/plain": [
              "                                            question  \\\n",
              "0  Can you explain how governmental interventions...   \n",
              "1  How do stock exchanges handle the exercise of ...   \n",
              "2  Discuss the criteria for determining exposure ...   \n",
              "3  Discuss the significance of the Clearing Corpo...   \n",
              "4  In what ways does the composition of statutory...   \n",
              "\n",
              "                                        ground_truth  \\\n",
              "0  Governmental interventions and price manipulat...   \n",
              "1  Stock exchanges handle option contracts throug...   \n",
              "2  The exposure limits to banks by stock exchange...   \n",
              "3  The discretion of Clearing Corporations to pre...   \n",
              "4  The composition of statutory committees within...   \n",
              "\n",
              "                                            contexts  \\\n",
              "0  [ease of doing business in commodity markets. ...   \n",
              "1  [Exchange platfor m in a transparent manner   ...   \n",
              "2  [b.  Open position limits in respect of client...   \n",
              "3  [Clearing Corporation on their website / by is...   \n",
              "4  [5.  Advisory Committee   Advise the governin...   \n",
              "\n",
              "                                              answer  \n",
              "0   The Daily Settlement Price (DSP) in futures t...  \n",
              "1   The objective parameters used to determine th...  \n",
              "2   Clearing Corporations should design a system ...  \n",
              "3   The framework for early delivery in futures c...  \n",
              "4   The Clearing Corporation ensures compliance w...  "
            ]
          },
          "execution_count": 26,
          "metadata": {},
          "output_type": "execute_result"
        }
      ],
      "source": [
        "complete_complex_df = iterate_and_update(complex_df)\n",
        "complete_complex_df.head()"
      ]
    },
    {
      "cell_type": "code",
      "execution_count": null,
      "metadata": {
        "id": "wyJkIM4QMwDI",
        "outputId": "422928f6-54fa-4e36-fee3-c38a9a9998f5"
      },
      "outputs": [
        {
          "data": {
            "text/plain": [
              "Dataset({\n",
              "    features: ['question', 'ground_truth', 'contexts', 'answer'],\n",
              "    num_rows: 6\n",
              "})"
            ]
          },
          "execution_count": 27,
          "metadata": {},
          "output_type": "execute_result"
        }
      ],
      "source": [
        "complex_data = Dataset.from_pandas(complete_complex_df)\n",
        "complex_data"
      ]
    },
    {
      "cell_type": "code",
      "execution_count": null,
      "metadata": {
        "id": "Uz6keLaxMwDI",
        "outputId": "c6dbdb94-cca6-4535-dccb-be0269e6e6e2"
      },
      "outputs": [
        {
          "name": "stderr",
          "output_type": "stream",
          "text": [
            "Evaluating: 100%|██████████| 30/30 [00:15<00:00,  1.95it/s]\n"
          ]
        }
      ],
      "source": [
        "complex_result = evaluate(\n",
        "    complex_data,\n",
        "    metrics=[\n",
        "        faithfulness,\n",
        "        answer_relevancy,\n",
        "        context_recall,\n",
        "        answer_similarity,\n",
        "        answer_correctness\n",
        "    ]\n",
        ")"
      ]
    },
    {
      "cell_type": "code",
      "execution_count": null,
      "metadata": {
        "id": "m7s1lpQqMwDJ",
        "outputId": "a824290f-e7b8-423d-d74d-f1131e5242ff"
      },
      "outputs": [
        {
          "data": {
            "text/plain": [
              "{'faithfulness': 0.3571, 'answer_relevancy': 0.7953, 'context_recall': 0.8542, 'answer_similarity': 0.7686, 'answer_correctness': 0.7634}"
            ]
          },
          "execution_count": 29,
          "metadata": {},
          "output_type": "execute_result"
        }
      ],
      "source": [
        "complex_result"
      ]
    },
    {
      "cell_type": "markdown",
      "metadata": {
        "id": "jresSYQAkIKl"
      },
      "source": [
        "## Final Benchmarking Metrics"
      ]
    },
    {
      "cell_type": "code",
      "execution_count": null,
      "metadata": {
        "id": "FZVLzksiMwDJ",
        "outputId": "83c13872-d4ba-4e83-9e7d-319798b25a3c"
      },
      "outputs": [
        {
          "data": {
            "text/html": [
              "<div>\n",
              "<style scoped>\n",
              "    .dataframe tbody tr th:only-of-type {\n",
              "        vertical-align: middle;\n",
              "    }\n",
              "\n",
              "    .dataframe tbody tr th {\n",
              "        vertical-align: top;\n",
              "    }\n",
              "\n",
              "    .dataframe thead th {\n",
              "        text-align: right;\n",
              "    }\n",
              "</style>\n",
              "<table border=\"1\" class=\"dataframe\">\n",
              "  <thead>\n",
              "    <tr style=\"text-align: right;\">\n",
              "      <th></th>\n",
              "      <th>faithfulness</th>\n",
              "      <th>answer_relevancy</th>\n",
              "      <th>context_recall</th>\n",
              "      <th>answer_similarity</th>\n",
              "      <th>answer_correctness</th>\n",
              "    </tr>\n",
              "    <tr>\n",
              "      <th>benchmark_name</th>\n",
              "      <th></th>\n",
              "      <th></th>\n",
              "      <th></th>\n",
              "      <th></th>\n",
              "      <th></th>\n",
              "    </tr>\n",
              "  </thead>\n",
              "  <tbody>\n",
              "    <tr>\n",
              "      <th>Simple Bench</th>\n",
              "      <td>0.885417</td>\n",
              "      <td>0.962931</td>\n",
              "      <td>0.791667</td>\n",
              "      <td>0.908777</td>\n",
              "      <td>0.576778</td>\n",
              "    </tr>\n",
              "    <tr>\n",
              "      <th>Complex Bench</th>\n",
              "      <td>0.357143</td>\n",
              "      <td>0.795326</td>\n",
              "      <td>0.854167</td>\n",
              "      <td>0.768567</td>\n",
              "      <td>0.763401</td>\n",
              "    </tr>\n",
              "  </tbody>\n",
              "</table>\n",
              "</div>"
            ],
            "text/plain": [
              "                faithfulness  answer_relevancy  context_recall  \\\n",
              "benchmark_name                                                   \n",
              "Simple Bench        0.885417          0.962931        0.791667   \n",
              "Complex Bench       0.357143          0.795326        0.854167   \n",
              "\n",
              "                answer_similarity  answer_correctness  \n",
              "benchmark_name                                         \n",
              "Simple Bench             0.908777            0.576778  \n",
              "Complex Bench            0.768567            0.763401  "
            ]
          },
          "execution_count": 30,
          "metadata": {},
          "output_type": "execute_result"
        }
      ],
      "source": [
        "df1 = pd.DataFrame([simple_result.values()], columns=simple_result.keys())\n",
        "df2 = pd.DataFrame([complex_result.values()], columns=complex_result.keys())\n",
        "final_metrics = pd.concat([df1, df2], ignore_index=True)\n",
        "final_metrics['benchmark_name'] = ['Simple Bench', 'Complex Bench']\n",
        "final_metrics.set_index('benchmark_name')"
      ]
    },
    {
      "cell_type": "markdown",
      "metadata": {
        "id": "NwXKZT8GkQsN"
      },
      "source": [
        "## Challenges and Final Remarks:\n",
        "\n",
        "*   The performance of a RAG system is strongly dependent on the relevant data the retriever is able to identify. This makes the process of data chunking and retrieval very crucial. More advanced methods of data extraction and chunking can implemented by using services such as the [Unstructured API](https://unstructured.io/).   \n",
        "*   The chunk size can also be varied along with the distance metric. This implementation has used `cosine distance` but other metrics such as `Euclidean distance` can also be used. This hyperparameter can be changed in the pinecone console.\n",
        "*   RAGAS is a very helpful tool and has streamlined the process of benchmarking the RAG systems. This does come at the cost of using OpenAI's closed source ecosystem. While RAGAS does allow you to use your custom LLM model, at the time of developing this usecase, it isn't working with both local LLM solutions (Ollama) and hosted LLMs (VertexAI). The library also requires the data to be in a very specific format including the names of the columns in the dataset.  \n",
        "*  The rag system is currently only using a single master circular. There are more circulars available on [SEBI's official website](https://www.sebi.gov.in/sebiweb/home/HomeAction.do?doListing=yes&sid=1&ssid=6&smid=0) here."
      ]
    },
    {
      "cell_type": "code",
      "execution_count": null,
      "metadata": {
        "id": "FtoWO5WRMwDK"
      },
      "outputs": [],
      "source": []
    }
  ],
  "metadata": {
    "colab": {
      "provenance": []
    },
    "kernelspec": {
      "display_name": ".venv",
      "language": "python",
      "name": "python3"
    },
    "language_info": {
      "codemirror_mode": {
        "name": "ipython",
        "version": 3
      },
      "file_extension": ".py",
      "mimetype": "text/x-python",
      "name": "python",
      "nbconvert_exporter": "python",
      "pygments_lexer": "ipython3",
      "version": "3.10.7"
    }
  },
  "nbformat": 4,
  "nbformat_minor": 0
}
